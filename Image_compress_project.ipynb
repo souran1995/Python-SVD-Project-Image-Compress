{
 "cells": [
  {
   "cell_type": "code",
   "execution_count": 1,
   "metadata": {},
   "outputs": [
    {
     "name": "stdout",
     "output_type": "stream",
     "text": [
      "Requirement already satisfied: pillow in c:\\users\\souran\\anaconda3\\lib\\site-packages (8.0.1)\n",
      "Note: you may need to restart the kernel to use updated packages.\n"
     ]
    }
   ],
   "source": [
    "pip install pillow"
   ]
  },
  {
   "cell_type": "code",
   "execution_count": 4,
   "metadata": {},
   "outputs": [],
   "source": [
    "#import important libraries\n",
    "import numpy\n",
    "from PIL import Image"
   ]
  },
  {
   "cell_type": "markdown",
   "metadata": {},
   "source": [
    "# FUNCTION DEFINTIONS:"
   ]
  },
  {
   "cell_type": "code",
   "execution_count": 5,
   "metadata": {},
   "outputs": [],
   "source": [
    "# open the image and return 3 matrices, each corresponding to one channel (R, G and B channels)\n",
    "def openImage(imagePath):\n",
    "    imOrig = Image.open(imagePath)\n",
    "    im = numpy.array(imOrig)\n",
    "\n",
    "    aRed   = im[:, :, 0]\n",
    "    aGreen = im[:, :, 1]\n",
    "    aBlue  = im[:, :, 2]\n",
    "\n",
    "    return [aRed, aGreen, aBlue, imOrig]"
   ]
  },
  {
   "cell_type": "code",
   "execution_count": 13,
   "metadata": {},
   "outputs": [],
   "source": [
    "# compress the matrix of a single channel\n",
    "def compressSingleChannel(channelDataMatrix, singularValuesLimit):\n",
    "    uChannel, sChannel, vhChannel = numpy.linalg.svd(channelDataMatrix)\n",
    "    aChannelCompressed = numpy.zeros((channelDataMatrix.shape[0], channelDataMatrix.shape[1]))\n",
    "    k = singularValuesLimit\n",
    "\n",
    "    leftSide = numpy.matmul(uChannel[:, 0:k], numpy.diag(sChannel)[0:k, 0:k])\n",
    "    aChannelCompressedInner = numpy.matmul(leftSide, vhChannel[0:k, :])\n",
    "    aChannelCompressed = aChannelCompressedInner.astype('uint8')\n",
    "    return aChannelCompressed"
   ]
  },
  {
   "cell_type": "markdown",
   "metadata": {},
   "source": [
    "# MAIN PROGRAM STRUCTURE"
   ]
  },
  {
   "cell_type": "code",
   "execution_count": 14,
   "metadata": {},
   "outputs": [
    {
     "name": "stdout",
     "output_type": "stream",
     "text": [
      "*** Image Compression using SVD ****\n",
      "original size:\n",
      "786432\n",
      "compressed size:\n",
      "492000\n",
      "Ratio compressed size / original size:\n",
      "0.6256103515625\n",
      "Compressed image size is 62.56% of the original image \n",
      "DONE - Compressed the image! Over and out!\n"
     ]
    }
   ],
   "source": [
    "\n",
    "# MAIN PROGRAM:\n",
    "print('*** Image Compression using SVD ****')\n",
    "aRed, aGreen, aBlue, originalImage = openImage('waris2.jpeg')\n",
    "\n",
    "# image width and height:\n",
    "imageWidth = 512\n",
    "imageHeight = 512\n",
    "\n",
    "# number of singular values to use for reconstructing the compressed image\n",
    "singularValuesLimit = 160\n",
    "\n",
    "aRedCompressed = compressSingleChannel(aRed, singularValuesLimit)\n",
    "aGreenCompressed = compressSingleChannel(aGreen, singularValuesLimit)\n",
    "aBlueCompressed = compressSingleChannel(aBlue, singularValuesLimit)\n",
    "\n",
    "imr = Image.fromarray(aRedCompressed, mode=None)\n",
    "img = Image.fromarray(aGreenCompressed, mode=None)\n",
    "imb = Image.fromarray(aBlueCompressed, mode=None)\n",
    "\n",
    "newImage = Image.merge(\"RGB\", (imr, img, imb))\n",
    "\n",
    "originalImage.show()\n",
    "newImage.show()\n",
    "\n",
    "# CALCULATE AND DISPLAY THE COMPRESSION RATIO\n",
    "mr = imageHeight\n",
    "mc = imageWidth\n",
    "\n",
    "originalSize = mr * mc * 3\n",
    "compressedSize = singularValuesLimit * (1 + mr + mc) * 3\n",
    "\n",
    "print('original size:')\n",
    "print(originalSize)\n",
    "\n",
    "print('compressed size:')\n",
    "print(compressedSize)\n",
    "\n",
    "print('Ratio compressed size / original size:')\n",
    "ratio = compressedSize * 1.0 / originalSize\n",
    "print(ratio)\n",
    "\n",
    "print('Compressed image size is ' + str(round(ratio * 100, 2)) + '% of the original image ')\n",
    "print('DONE - Compressed the image! Over and out!')"
   ]
  }
 ],
 "metadata": {
  "kernelspec": {
   "display_name": "Python 3",
   "language": "python",
   "name": "python3"
  },
  "language_info": {
   "codemirror_mode": {
    "name": "ipython",
    "version": 3
   },
   "file_extension": ".py",
   "mimetype": "text/x-python",
   "name": "python",
   "nbconvert_exporter": "python",
   "pygments_lexer": "ipython3",
   "version": "3.8.5"
  }
 },
 "nbformat": 4,
 "nbformat_minor": 4
}
